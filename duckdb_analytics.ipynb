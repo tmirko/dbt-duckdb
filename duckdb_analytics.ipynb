{
 "cells": [
  {
   "cell_type": "markdown",
   "metadata": {},
   "source": [
    "#### Import libraries and connect"
   ]
  },
  {
   "cell_type": "code",
   "execution_count": 6,
   "metadata": {},
   "outputs": [],
   "source": [
    "import duckdb\n",
    "\n",
    "conn = duckdb.connect(\"dbt_duckdb/dev.duckdb\")"
   ]
  },
  {
   "cell_type": "markdown",
   "metadata": {},
   "source": [
    "#### Show all tables"
   ]
  },
  {
   "cell_type": "code",
   "execution_count": 7,
   "metadata": {},
   "outputs": [
    {
     "name": "stdout",
     "output_type": "stream",
     "text": [
      "  database schema                 name              column_names  \\\n",
      "0      dev   main                 TEST  [test, _sling_loaded_at]   \n",
      "1      dev   main   my_first_dbt_model                [id, name]   \n",
      "2      dev   main  my_second_dbt_model                [id, name]   \n",
      "\n",
      "         column_types  temporary  \n",
      "0   [INTEGER, BIGINT]      False  \n",
      "1  [INTEGER, VARCHAR]      False  \n",
      "2  [INTEGER, VARCHAR]      False  \n"
     ]
    }
   ],
   "source": [
    "show_tables = conn.execute(\"\"\"\n",
    "SHOW ALL TABLES\n",
    "\"\"\").df()\n",
    "\n",
    "print(show_tables)"
   ]
  },
  {
   "cell_type": "markdown",
   "metadata": {},
   "source": [
    "#### Analyze"
   ]
  },
  {
   "cell_type": "code",
   "execution_count": 8,
   "metadata": {},
   "outputs": [
    {
     "name": "stdout",
     "output_type": "stream",
     "text": [
      "   test  _sling_loaded_at\n",
      "0     1        1715254004\n"
     ]
    }
   ],
   "source": [
    "df = conn.execute(\"\"\"\n",
    "from test\n",
    "\"\"\").df()\n",
    "\n",
    "print(df)\n",
    "\n",
    "conn.close()"
   ]
  }
 ],
 "metadata": {
  "kernelspec": {
   "display_name": "dbt-duckdb",
   "language": "python",
   "name": "python3"
  },
  "language_info": {
   "codemirror_mode": {
    "name": "ipython",
    "version": 3
   },
   "file_extension": ".py",
   "mimetype": "text/x-python",
   "name": "python",
   "nbconvert_exporter": "python",
   "pygments_lexer": "ipython3",
   "version": "3.11.9"
  }
 },
 "nbformat": 4,
 "nbformat_minor": 2
}
