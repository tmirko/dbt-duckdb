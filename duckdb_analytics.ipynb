{
 "cells": [
  {
   "cell_type": "markdown",
   "metadata": {},
   "source": [
    "#### Import libraries and connect"
   ]
  },
  {
   "cell_type": "code",
   "execution_count": 9,
   "metadata": {},
   "outputs": [],
   "source": [
    "import duckdb\n",
    "import sling"
   ]
  },
  {
   "cell_type": "code",
   "execution_count": 18,
   "metadata": {},
   "outputs": [
    {
     "name": "stdout",
     "output_type": "stream",
     "text": [
      "\u001b[90m1:23PM\u001b[0m \u001b[32mINF\u001b[0m connecting to source database (bigquery)\n",
      "\u001b[90m1:23PM\u001b[0m \u001b[32mINF\u001b[0m connecting to target database (duckdb)\n",
      "\u001b[90m1:23PM\u001b[0m \u001b[32mINF\u001b[0m reading from source database\n",
      "\u001b[90m1:23PM\u001b[0m \u001b[31mWRN\u001b[0m No GCS Bucket was provided, pulling from cursor (which may be slower for big datasets).\n",
      "\u001b[90m1:23PM\u001b[0m \u001b[32mINF\u001b[0m writing to target database [mode: full-refresh]\n",
      "\u001b[90m1:23PM\u001b[0m \u001b[32mINF\u001b[0m streaming data\n",
      "1s 38,888 ? p/s 2.9 MB 2s 38,888 ? p/s 2.9 MB 3s 38,888 ? p/s 2.9 MB 4s 77,776 38896 r/s 5.8 MB 5s 77,776 36386 r/s 5.8 MB 6s 77,776 34039 r/s 5.8 MB 7s 116,664 34352 r/s 8.7 MB 8s 116,664 32135 r/s 8.7 MB 9s 116,664 30062 r/s 8.7 MB 10s 155,552 30629 r/s 12 MB 11s 155,552 28653 r/s 12 MB 12s 194,440 29314 r/s 14 MB 13s 194,440 27423 r/s 14 MB 14s 194,440 25654 r/s 14 MB 15s 219,069 25588 r/s 16 MB 16s 233,328 24857 r/s 17 MB 17s 233,328 23253 r/s 17 MB 18s 233,328 21753 r/s 17 MB 19s 233,328 20350 r/s 17 MB 20s 272,216 21545 r/s 20 MB 21s 272,216 20155 r/s 20 MB 22s 272,216 18854 r/s 20 MB 23s 311,104 20149 r/s 23 MB 24s 311,104 18849 r/s 23 MB 25s 311,104 17633 r/s 23 MB 26s 349,992 19004 r/s 26 MB 27s 349,992 17778 r/s 26 MB 28s 349,992 16631 r/s 26 MB 29s 388,880 18066 r/s 29 MB 30s 388,880 16900 r/s 29 MB 31s 423,542 18044 r/s 32 MB 32s 427,768 17153 r/s 32 MB 33s 427,768 16046 r/s 32 MB 34s 433,396 15374 r/s 32 MB 35s 466,656 16528 r/s 35 MB 36s 466,656 15461 r/s 35 MB 37s 466,656 14464 r/s 35 MB 38s 505,544 16042 r/s 38 MB 39s 505,544 15007 r/s 38 MB 40s 505,544 14039 r/s 38 MB 41s 505,544 13133 r/s 38 MB 42s 544,432 14795 r/s 41 MB 43s 544,432 13840 r/s 41 MB 44s 544,432 12947 r/s 41 MB 45s 583,320 14621 r/s 44 MB 46s 583,320 13678 r/s 44 MB 47s 583,320 12795 r/s 44 MB 48s 609,321 13645 r/s 46 MB 49s 622,208 13597 r/s 46 MB 50s 622,208 12720 r/s 46 MB 51s 661,096 14405 r/s 49 MB 52s 661,096 13476 r/s 49 MB 53s 661,096 12606 r/s 49 MB 54s 661,096 11793 r/s 49 MB 55s 699,984 13543 r/s 52 MB 56s 699,984 12669 r/s 52 MB 57s 699,984 11852 r/s 52 MB 58s 699,984 11087 r/s 52 MB 59s 738,872 12882 r/s 55 MB 1m0s 738,872 12051 r/s 55 MB 1m1s 738,872 11273 r/s 55 MB 1m2s 738,872 10546 r/s 55 MB 1m3s 777,760 12375 r/s 58 MB 1m4s 777,760 11577 r/s 58 MB 1m5s 777,760 10830 r/s 58 MB 1m6s 816,648 12640 r/s 61 MB 1m7s 816,648 12392 r/s 61 MB \u001b[90m1:24PM\u001b[0m \u001b[32mINF\u001b[0m created table \"main\".\"international_top_terms\"\n",
      "\u001b[90m1:24PM\u001b[0m \u001b[32mINF\u001b[0m inserted 837380 rows into main.\"international_top_terms\" in 76 secs [10,979 r/s] [63 MB]\n",
      "\u001b[90m1:24PM\u001b[0m \u001b[32mINF\u001b[0m execution succeeded\n"
     ]
    },
    {
     "data": {
      "text/plain": [
       "''"
      ]
     },
     "execution_count": 18,
     "metadata": {},
     "output_type": "execute_result"
    }
   ],
   "source": [
    "## run from cli\n",
    "#sling run -r /home/mirko/git-projects/dbt-duckdb/sling_config/bigquery_to_duckdb.yaml\n",
    "\n",
    "config = {\n",
    "  'source': {\n",
    "    'conn': 'BIGQUERY',\n",
    "    'stream': \"SELECT * FROM bigquery-public-data.google_trends.international_top_terms WHERE country_name = 'United Kingdom'\",\n",
    "  },\n",
    "  'target': {\n",
    "    'conn':  \"DUCKDB_DEV\",\n",
    "    'object': \"international_top_terms\"\n",
    "  },\n",
    "}\n",
    "\n",
    "sling.Task(**config).run()"
   ]
  },
  {
   "cell_type": "markdown",
   "metadata": {},
   "source": [
    "#### Run duckdb"
   ]
  },
  {
   "cell_type": "code",
   "execution_count": 19,
   "metadata": {},
   "outputs": [
    {
     "name": "stdout",
     "output_type": "stream",
     "text": [
      "  database schema                     name  \\\n",
      "0      dev   main                     TEST   \n",
      "1      dev   main  international_top_terms   \n",
      "2      dev   main       my_first_dbt_model   \n",
      "3      dev   main      my_second_dbt_model   \n",
      "\n",
      "                                        column_names  \\\n",
      "0                           [test, _sling_loaded_at]   \n",
      "1  [term, week, score, rank, refresh_date, countr...   \n",
      "2                                         [id, name]   \n",
      "3                                         [id, name]   \n",
      "\n",
      "                                        column_types  temporary  \n",
      "0                                  [INTEGER, BIGINT]      False  \n",
      "1  [VARCHAR, DATE, BIGINT, BIGINT, DATE, VARCHAR,...      False  \n",
      "2                                 [INTEGER, VARCHAR]      False  \n",
      "3                                 [INTEGER, VARCHAR]      False  \n",
      "                term       week  score  rank refresh_date    country_name  \\\n",
      "0        Andrew Tate 2019-03-17    NaN     2   2024-03-13  United Kingdom   \n",
      "1        Andrew Tate 2019-05-12    NaN     2   2024-03-13  United Kingdom   \n",
      "2        Andrew Tate 2019-06-02    NaN     2   2024-03-13  United Kingdom   \n",
      "3        Andrew Tate 2019-06-30    NaN     2   2024-03-13  United Kingdom   \n",
      "4        Andrew Tate 2019-08-25    NaN     2   2024-03-13  United Kingdom   \n",
      "...              ...        ...    ...   ...          ...             ...   \n",
      "837375  Ryan Gosling 2023-10-22   22.0    20   2024-03-13  United Kingdom   \n",
      "837376  Ryan Gosling 2023-11-05   23.0    20   2024-03-13  United Kingdom   \n",
      "837377  Ryan Gosling 2023-11-12   24.0    20   2024-03-13  United Kingdom   \n",
      "837378  Ryan Gosling 2023-12-31   24.0    20   2024-03-13  United Kingdom   \n",
      "837379  Ryan Gosling 2024-01-28   19.0    20   2024-03-13  United Kingdom   \n",
      "\n",
      "       country_code region_name region_code  \n",
      "0                GB     England      GB-ENG  \n",
      "1                GB     England      GB-ENG  \n",
      "2                GB     England      GB-ENG  \n",
      "3                GB     England      GB-ENG  \n",
      "4                GB     England      GB-ENG  \n",
      "...             ...         ...         ...  \n",
      "837375           GB       Wales      GB-WLS  \n",
      "837376           GB       Wales      GB-WLS  \n",
      "837377           GB       Wales      GB-WLS  \n",
      "837378           GB       Wales      GB-WLS  \n",
      "837379           GB       Wales      GB-WLS  \n",
      "\n",
      "[837380 rows x 9 columns]\n"
     ]
    }
   ],
   "source": [
    "conn = duckdb.connect(\"dbt_duckdb/dev.duckdb\")\n",
    "\n",
    "show_tables = conn.execute(\"\"\"\n",
    "SHOW ALL TABLES\n",
    "\"\"\").df()\n",
    "\n",
    "print(show_tables)\n",
    "\n",
    "df = conn.execute(\"\"\"\n",
    "from international_top_terms\n",
    "\"\"\").df()\n",
    "\n",
    "print(df)\n",
    "\n",
    "conn.close()"
   ]
  }
 ],
 "metadata": {
  "kernelspec": {
   "display_name": "dbt-duckdb",
   "language": "python",
   "name": "python3"
  },
  "language_info": {
   "codemirror_mode": {
    "name": "ipython",
    "version": 3
   },
   "file_extension": ".py",
   "mimetype": "text/x-python",
   "name": "python",
   "nbconvert_exporter": "python",
   "pygments_lexer": "ipython3",
   "version": "3.11.9"
  }
 },
 "nbformat": 4,
 "nbformat_minor": 2
}
