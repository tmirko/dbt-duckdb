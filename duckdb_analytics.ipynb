{
 "cells": [
  {
   "cell_type": "markdown",
   "metadata": {},
   "source": [
    "#### Import libraries and connect"
   ]
  },
  {
   "cell_type": "code",
   "execution_count": 14,
   "metadata": {},
   "outputs": [],
   "source": [
    "import duckdb\n",
    "\n",
    "conn = duckdb.connect(\"dbt_duckdb/dev.duckdb\")"
   ]
  },
  {
   "cell_type": "markdown",
   "metadata": {},
   "source": [
    "#### Show all tables"
   ]
  },
  {
   "cell_type": "code",
   "execution_count": 15,
   "metadata": {},
   "outputs": [
    {
     "name": "stdout",
     "output_type": "stream",
     "text": [
      "  database schema                     name  \\\n",
      "0      dev   main                     TEST   \n",
      "1      dev   main  international_top_terms   \n",
      "2      dev   main       my_first_dbt_model   \n",
      "3      dev   main      my_second_dbt_model   \n",
      "\n",
      "                                        column_names  \\\n",
      "0                           [test, _sling_loaded_at]   \n",
      "1  [term, week, score, rank, refresh_date, countr...   \n",
      "2                                         [id, name]   \n",
      "3                                         [id, name]   \n",
      "\n",
      "                                        column_types  temporary  \n",
      "0                                  [INTEGER, BIGINT]      False  \n",
      "1  [VARCHAR, DATE, BIGINT, BIGINT, DATE, VARCHAR,...      False  \n",
      "2                                 [INTEGER, VARCHAR]      False  \n",
      "3                                 [INTEGER, VARCHAR]      False  \n"
     ]
    }
   ],
   "source": [
    "show_tables = conn.execute(\"\"\"\n",
    "SHOW ALL TABLES\n",
    "\"\"\").df()\n",
    "\n",
    "print(show_tables)"
   ]
  },
  {
   "cell_type": "markdown",
   "metadata": {},
   "source": [
    "#### Analyze"
   ]
  },
  {
   "cell_type": "code",
   "execution_count": 16,
   "metadata": {},
   "outputs": [
    {
     "name": "stdout",
     "output_type": "stream",
     "text": [
      "                           term       week  score  rank refresh_date  \\\n",
      "0                   Andrew Tate 2019-04-07    NaN     2   2024-03-13   \n",
      "1                   Andrew Tate 2019-07-14    NaN     2   2024-03-13   \n",
      "2                   Andrew Tate 2020-03-29    NaN     2   2024-03-13   \n",
      "3                   Andrew Tate 2020-05-17    NaN     2   2024-03-13   \n",
      "4                   Andrew Tate 2020-06-21    NaN     2   2024-03-13   \n",
      "...                         ...        ...    ...   ...          ...   \n",
      "837375  West Ham vs Aston Villa 2023-06-04    NaN     9   2024-03-18   \n",
      "837376  West Ham vs Aston Villa 2023-10-01    NaN     9   2024-03-18   \n",
      "837377  West Ham vs Aston Villa 2023-10-15    NaN     9   2024-03-18   \n",
      "837378  West Ham vs Aston Villa 2023-12-17    NaN     9   2024-03-18   \n",
      "837379  West Ham vs Aston Villa 2023-12-31    NaN     9   2024-03-18   \n",
      "\n",
      "          country_name country_code region_name region_code  \n",
      "0       United Kingdom           GB     England      GB-ENG  \n",
      "1       United Kingdom           GB     England      GB-ENG  \n",
      "2       United Kingdom           GB     England      GB-ENG  \n",
      "3       United Kingdom           GB     England      GB-ENG  \n",
      "4       United Kingdom           GB     England      GB-ENG  \n",
      "...                ...          ...         ...         ...  \n",
      "837375  United Kingdom           GB       Wales      GB-WLS  \n",
      "837376  United Kingdom           GB       Wales      GB-WLS  \n",
      "837377  United Kingdom           GB       Wales      GB-WLS  \n",
      "837378  United Kingdom           GB       Wales      GB-WLS  \n",
      "837379  United Kingdom           GB       Wales      GB-WLS  \n",
      "\n",
      "[837380 rows x 9 columns]\n"
     ]
    }
   ],
   "source": [
    "df = conn.execute(\"\"\"\n",
    "from international_top_terms\n",
    "\"\"\").df()\n",
    "\n",
    "print(df)\n",
    "\n",
    "conn.close()"
   ]
  }
 ],
 "metadata": {
  "kernelspec": {
   "display_name": "dbt-duckdb",
   "language": "python",
   "name": "python3"
  },
  "language_info": {
   "codemirror_mode": {
    "name": "ipython",
    "version": 3
   },
   "file_extension": ".py",
   "mimetype": "text/x-python",
   "name": "python",
   "nbconvert_exporter": "python",
   "pygments_lexer": "ipython3",
   "version": "3.11.9"
  }
 },
 "nbformat": 4,
 "nbformat_minor": 2
}
